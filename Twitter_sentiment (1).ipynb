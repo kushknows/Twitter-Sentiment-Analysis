{
 "cells": [
  {
   "cell_type": "code",
   "execution_count": 30,
   "metadata": {
    "collapsed": true
   },
   "outputs": [],
   "source": [
    "import tweepy\n",
    "consumer_key=\"hmL3tbCl4Y7JgpKsDHKCpTEm9\"\n",
    "consumer_secret=\"zGJXewHINvlNE7ViTA10YuGsjZcOJamA1dgdF3V2aN0uF54zc2\"\n",
    "access_token=\"741301816361635840-p46wy3cSUEfuoozXvYNDvrfhpQjjt07\"\n",
    "access_token_secret=\"Edvzh6AN9KZdZtIClohE1K3KWPMlzY8u3rRRRxKJn8ztW\""
   ]
  },
  {
   "cell_type": "code",
   "execution_count": 31,
   "metadata": {
    "collapsed": true
   },
   "outputs": [],
   "source": [
    "auth=tweepy.OAuthHandler(consumer_key,consumer_secret)\n",
    "auth.set_access_token(access_token,access_token_secret)"
   ]
  },
  {
   "cell_type": "code",
   "execution_count": 32,
   "metadata": {
    "collapsed": true
   },
   "outputs": [],
   "source": [
    "api=tweepy.API(auth)\n",
    "user=api.user_timeline(screen_name=\"realDonaldTrump\")"
   ]
  },
  {
   "cell_type": "code",
   "execution_count": 33,
   "metadata": {
    "collapsed": true
   },
   "outputs": [],
   "source": [
    "tmpp=[]\n",
    "tweets_for_csv =[tweet.text for tweet in user] # CSV file created  \n",
    "for j in tweets_for_csv:\n",
    "        tmpp.append(j)\n",
    "                      "
   ]
  },
  {
   "cell_type": "code",
   "execution_count": 34,
   "metadata": {},
   "outputs": [],
   "source": [
    "import numpy as nm\n",
    "# Cleaning Spaces from each and every tweets\n",
    "for  i in range(len(tmpp)):\n",
    "     tmpp[i]=tmpp[i].replace('\\n','')        "
   ]
  },
  {
   "cell_type": "code",
   "execution_count": 35,
   "metadata": {},
   "outputs": [
    {
     "name": "stdout",
     "output_type": "stream",
     "text": [
      "RT @RealOmarNavarro: I love @realDonaldTrump. He’s the only President in my lifetime who stands for our country.\n",
      "RT @OliverMcGee: Retweet @POTUS isn't RACIST when @Prince wrote @realDonaldTrump Black Version! 😆Donald Trump: Black VersionMaybe that's…\n",
      "RT @OliverMcGee: Retweet The Lies, False Facts &amp; Fake News of @CNN's @Acosta on @POTUS!Raise Your Hand if you LOVE @realDonaldTrump has S…\n",
      "RT @OliverMcGee: Wow. Throwback to when Senator Barack Obama agreed with @realDonaldTrump on immigration! RT this so your friends see this!…\n",
      "RT @TVNewsHQ: WATCH: “MSNBC is rewarding hate-filled conspiracy theorists with air time because their Trump Derangement Syndrome demands it…\n",
      "RT @MariaBartiromo: Trump rarely uses racial categories. It is the media and Democratic leaders who routinely issue race-based denunciation…\n",
      "The New York Times will be out of business soon after I leave office, hopefully in 6 years. They have Zero credibil… \n",
      "Thank you @TedCruz, I couldn’t agree more! \n",
      "House Democrats want to take action against Israel because it is fighting back against two (maybe four) people that… \n",
      "Our economy is the best in the world, by far. Lowest unemployment ever within almost all categories. Poised for big… \n",
      "Juan Williams at @FoxNews is so pathetic, and yet when he met me in the Fox Building lobby, he couldn’t have been n… \n",
      "We are doing very well with China, and talking!\n",
      "Doing really well! \n",
      "RT @MariaBartiromo: Lindsey Graham on IG investigation into Russia probe: I want the American people to see what happened …\n",
      "RT @MariaBartiromo: .@LindseyGrahamSC Sen. Graham: The dream of every leftist is to have a liberal court enacting laws from the bench https…\n",
      "RT @CLewandowski_: Lewandowski on potential NH Senate run: If I run, 'I'm going to win' | TheHill \n",
      "MAKE AMERICA GREAT AGAIN!\n",
      "With all that this Administration has accomplished, think what my Poll Numbers would be if we had an honest Media, which we do not!\n",
      ".....”Journalism” has reached a new low in the history of our Country. It is nothing more than an evil propaganda m… \n",
      "The Failing New York Times, in one of the most devastating portrayals of bad journalism in history, got caught by a… \n"
     ]
    }
   ],
   "source": [
    "import re\n",
    "\n",
    "for i in range(len(tmpp)):\n",
    "    x=re.compile(r'https://t.co/*[a-zA-Z0-9]*',re.DOTALL)\n",
    "    tmpp[i]=re.sub(x,'',tmpp[i])\n",
    "    print(tmpp[i])"
   ]
  },
  {
   "cell_type": "code",
   "execution_count": 36,
   "metadata": {},
   "outputs": [
    {
     "name": "stdout",
     "output_type": "stream",
     "text": [
      "RT : I love  He’s the only President in my lifetime who stands for our country.\n",
      "RT : Retweet  isn't RACIST when  wrote  Black Version! 😆Donald Trump: Black VersionMaybe that's…\n",
      "RT : Retweet The Lies, False Facts &amp; Fake News of 's  on !Raise Your Hand if you LOVE  has S…\n",
      "RT : Wow. Throwback to when Senator Barack Obama agreed with  on immigration! RT this so your friends see this!…\n",
      "RT : WATCH: “MSNBC is rewarding hate-filled conspiracy theorists with air time because their Trump Derangement Syndrome demands it…\n",
      "RT : Trump rarely uses racial categories. It is the media and Democratic leaders who routinely issue race-based denunciation…\n",
      "The New York Times will be out of business soon after I leave office, hopefully in 6 years. They have Zero credibil… \n",
      "Thank you , I couldn’t agree more! \n",
      "House Democrats want to take action against Israel because it is fighting back against two (maybe four) people that… \n",
      "Our economy is the best in the world, by far. Lowest unemployment ever within almost all categories. Poised for big… \n",
      "Juan Williams at  is so pathetic, and yet when he met me in the Fox Building lobby, he couldn’t have been n… \n",
      "We are doing very well with China, and talking!\n",
      "Doing really well! \n",
      "RT : Lindsey Graham on IG investigation into Russia probe: I want the American people to see what happened …\n",
      "RT : . Sen. Graham: The dream of every leftist is to have a liberal court enacting laws from the bench https…\n",
      "RT : Lewandowski on potential NH Senate run: If I run, 'I'm going to win' | TheHill \n",
      "MAKE AMERICA GREAT AGAIN!\n",
      "With all that this Administration has accomplished, think what my Poll Numbers would be if we had an honest Media, which we do not!\n",
      ".....”Journalism” has reached a new low in the history of our Country. It is nothing more than an evil propaganda m… \n",
      "The Failing New York Times, in one of the most devastating portrayals of bad journalism in history, got caught by a… \n"
     ]
    }
   ],
   "source": [
    "for i in range(len(tmpp)):\n",
    "    tmpp[i]=re.sub(r'@[a-zA-Z_.0-9]*| #[a-zA-Z0-9]*','',tmpp[i])\n",
    "    print(tmpp[i])"
   ]
  },
  {
   "cell_type": "code",
   "execution_count": 37,
   "metadata": {
    "collapsed": true
   },
   "outputs": [],
   "source": [
    "from textblob import TextBlob"
   ]
  },
  {
   "cell_type": "code",
   "execution_count": 38,
   "metadata": {},
   "outputs": [
    {
     "name": "stdout",
     "output_type": "stream",
     "text": [
      "0.25 RT : I love  He’s the only President in my lifetime who stands for our country.\n",
      "-0.1875 RT : Retweet  isn't RACIST when  wrote  Black Version! 😆Donald Trump: Black VersionMaybe that's…\n",
      "-0.17500000000000004 RT : Retweet The Lies, False Facts &amp; Fake News of 's  on !Raise Your Hand if you LOVE  has S…\n",
      "0.125 RT : Wow. Throwback to when Senator Barack Obama agreed with  on immigration! RT this so your friends see this!…\n",
      "0.5 RT : WATCH: “MSNBC is rewarding hate-filled conspiracy theorists with air time because their Trump Derangement Syndrome demands it…\n",
      "0.3 RT : Trump rarely uses racial categories. It is the media and Democratic leaders who routinely issue race-based denunciation…\n",
      "0.13636363636363635 The New York Times will be out of business soon after I leave office, hopefully in 6 years. They have Zero credibil… \n",
      "0.625 Thank you , I couldn’t agree more! \n",
      "0.05 House Democrats want to take action against Israel because it is fighting back against two (maybe four) people that… \n",
      "0.55 Our economy is the best in the world, by far. Lowest unemployment ever within almost all categories. Poised for big… \n",
      "-1.0 Juan Williams at  is so pathetic, and yet when he met me in the Fox Building lobby, he couldn’t have been n… \n",
      "0.25 We are doing very well with China, and talking!\n",
      "0.25 Doing really well! \n",
      "0.0 RT : Lindsey Graham on IG investigation into Russia probe: I want the American people to see what happened …\n",
      "-0.05 RT : . Sen. Graham: The dream of every leftist is to have a liberal court enacting laws from the bench https…\n",
      "0.4 RT : Lewandowski on potential NH Senate run: If I run, 'I'm going to win' | TheHill \n",
      "1.0 MAKE AMERICA GREAT AGAIN!\n",
      "0.475 With all that this Administration has accomplished, think what my Poll Numbers would be if we had an honest Media, which we do not!\n",
      "-0.09272727272727273 .....”Journalism” has reached a new low in the history of our Country. It is nothing more than an evil propaganda m… \n",
      "-0.2659090909090909 The Failing New York Times, in one of the most devastating portrayals of bad journalism in history, got caught by a… \n"
     ]
    }
   ],
   "source": [
    "po=[]\n",
    "for i in range(len(tmpp)):\n",
    "    analysis=TextBlob(tmpp[i])\n",
    "    po.append(analysis.sentiment.polarity)\n",
    "    print(po[i],tmpp[i])"
   ]
  },
  {
   "cell_type": "code",
   "execution_count": 39,
   "metadata": {
    "collapsed": true
   },
   "outputs": [],
   "source": [
    "import pandas as pd\n",
    "sentiment=pd.DataFrame(po,columns=[\"Polarity\"])"
   ]
  },
  {
   "cell_type": "code",
   "execution_count": 40,
   "metadata": {},
   "outputs": [
    {
     "data": {
      "text/html": [
       "<div>\n",
       "<style scoped>\n",
       "    .dataframe tbody tr th:only-of-type {\n",
       "        vertical-align: middle;\n",
       "    }\n",
       "\n",
       "    .dataframe tbody tr th {\n",
       "        vertical-align: top;\n",
       "    }\n",
       "\n",
       "    .dataframe thead th {\n",
       "        text-align: right;\n",
       "    }\n",
       "</style>\n",
       "<table border=\"1\" class=\"dataframe\">\n",
       "  <thead>\n",
       "    <tr style=\"text-align: right;\">\n",
       "      <th></th>\n",
       "      <th>pol</th>\n",
       "      <th>Tweets</th>\n",
       "    </tr>\n",
       "  </thead>\n",
       "  <tbody>\n",
       "    <tr>\n",
       "      <th>0</th>\n",
       "      <td>0.2500</td>\n",
       "      <td>RT : I love  He’s the only President in my lif...</td>\n",
       "    </tr>\n",
       "    <tr>\n",
       "      <th>1</th>\n",
       "      <td>-0.1875</td>\n",
       "      <td>RT : Retweet  isn't RACIST when  wrote  Black ...</td>\n",
       "    </tr>\n",
       "    <tr>\n",
       "      <th>2</th>\n",
       "      <td>-0.1750</td>\n",
       "      <td>RT : Retweet The Lies, False Facts &amp;amp; Fake ...</td>\n",
       "    </tr>\n",
       "    <tr>\n",
       "      <th>3</th>\n",
       "      <td>0.1250</td>\n",
       "      <td>RT : Wow. Throwback to when Senator Barack Oba...</td>\n",
       "    </tr>\n",
       "    <tr>\n",
       "      <th>4</th>\n",
       "      <td>0.5000</td>\n",
       "      <td>RT : WATCH: “MSNBC is rewarding hate-filled co...</td>\n",
       "    </tr>\n",
       "  </tbody>\n",
       "</table>\n",
       "</div>"
      ],
      "text/plain": [
       "      pol                                             Tweets\n",
       "0  0.2500  RT : I love  He’s the only President in my lif...\n",
       "1 -0.1875  RT : Retweet  isn't RACIST when  wrote  Black ...\n",
       "2 -0.1750  RT : Retweet The Lies, False Facts &amp; Fake ...\n",
       "3  0.1250  RT : Wow. Throwback to when Senator Barack Oba...\n",
       "4  0.5000  RT : WATCH: “MSNBC is rewarding hate-filled co..."
      ]
     },
     "execution_count": 40,
     "metadata": {},
     "output_type": "execute_result"
    }
   ],
   "source": [
    "senti=pd.DataFrame({'pol':po,'Tweets':tmpp},columns=[\"pol\",\"Tweets\"])\n",
    "senti.head()"
   ]
  },
  {
   "cell_type": "code",
   "execution_count": 41,
   "metadata": {},
   "outputs": [
    {
     "data": {
      "image/png": "[encoded data removed]",
      "text/plain": [
       "<Figure size 432x288 with 1 Axes>"
      ]
     },
     "metadata": {},
     "output_type": "display_data"
    }
   ],
   "source": [
    "import matplotlib.pyplot as plt\n",
    "import seaborn as sns\n",
    "x_axis=[1,2,3,4,5,6,7,8,9,10,11,12,13,14,15,16,17,18,19,20]\n",
    "plt.plot(x_axis, senti.pol)\n",
    "plt.show()"
   ]
  },
  {
   "cell_type": "code",
   "execution_count": null,
   "metadata": {
    "collapsed": true
   },
   "outputs": [],
   "source": []
  },
  {
   "cell_type": "code",
   "execution_count": null,
   "metadata": {
    "collapsed": true
   },
   "outputs": [],
   "source": []
  }
 ],
 "metadata": {
  "kernelspec": {
   "display_name": "Python 3",
   "language": "python",
   "name": "python3"
  },
  "language_info": {
   "codemirror_mode": {
    "name": "ipython",
    "version": 3
   },
   "file_extension": ".py",
   "mimetype": "text/x-python",
   "name": "python",
   "nbconvert_exporter": "python",
   "pygments_lexer": "ipython3",
   "version": "3.6.8"
  }
 },
 "nbformat": 4,
 "nbformat_minor": 2
}
